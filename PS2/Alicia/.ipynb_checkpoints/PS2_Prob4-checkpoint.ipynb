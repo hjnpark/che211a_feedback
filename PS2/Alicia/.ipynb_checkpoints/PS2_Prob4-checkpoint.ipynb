{
 "cells": [
  {
   "cell_type": "markdown",
   "id": "3236f55c-0102-460c-aa94-444ab155d4ab",
   "metadata": {},
   "source": [
    "4b"
   ]
  },
  {
   "cell_type": "code",
   "execution_count": 1,
   "id": "9ba4bd98-852d-45f2-8d59-b5a5222b8d85",
   "metadata": {},
   "outputs": [],
   "source": [
    "import numpy as np\n",
    "import matplotlib.pyplot as plt\n",
    "Rmin = 4.60209439806843"
   ]
  },
  {
   "cell_type": "code",
   "execution_count": 2,
   "id": "d6f361e9-4a80-4732-8ed9-644c6a2fbdbd",
   "metadata": {},
   "outputs": [],
   "source": [
    "def pot(r1,r2):\n",
    "    sig = 4.1 #A\n",
    "    eps = 1.77 #kJ/mol\n",
    "    Rij = np.sum((r1-r2)**2)**0.5\n",
    "    U = 4*eps*(((sig/Rij)**12)-((sig/Rij)**6)) #kJ/mol\n",
    "    return U"
   ]
  },
  {
   "cell_type": "code",
   "execution_count": 3,
   "id": "e6b336f1-0a3a-44be-9138-cc476d3310b0",
   "metadata": {},
   "outputs": [
    {
     "data": {
      "text/plain": [
       "array([[0.       , 0.       , 0.       ],\n",
       "       [0.       , 0.       , 4.6020944],\n",
       "       [0.       , 4.6020944, 0.       ],\n",
       "       [0.       , 4.6020944, 4.6020944],\n",
       "       [4.6020944, 0.       , 0.       ],\n",
       "       [4.6020944, 0.       , 4.6020944],\n",
       "       [4.6020944, 4.6020944, 0.       ],\n",
       "       [4.6020944, 4.6020944, 4.6020944]])"
      ]
     },
     "execution_count": 3,
     "metadata": {},
     "output_type": "execute_result"
    }
   ],
   "source": [
    "def position(n):\n",
    "    atomposition = np.array([])\n",
    "    for i in range(0, n):\n",
    "        for j in range(0, n):\n",
    "            for k in range(0, n):\n",
    "                atomrow = np.array([i, j, k]) * Rmin\n",
    "                atomposition = np.append(atomposition, atomrow)\n",
    "    atomposition = atomposition.reshape(n**3, 3)\n",
    "    return atomposition   \n",
    "position(2)"
   ]
  },
  {
   "cell_type": "code",
   "execution_count": 4,
   "id": "926c7134-47a5-4678-ab3e-6739deb87e12",
   "metadata": {},
   "outputs": [],
   "source": [
    "positions1 = np.array ([0.0,0.0,0.0])\n",
    "positions2 = np.array ([0.0,0.0,6.0])"
   ]
  },
  {
   "cell_type": "code",
   "execution_count": 5,
   "id": "27e443d9-a8c1-4ea5-bac4-ae7b96f82f22",
   "metadata": {},
   "outputs": [],
   "source": [
    "def force(p1,p2):\n",
    "    sig = 4.1\n",
    "    eps = 1.77\n",
    "    Rij = np.sum((p1-p2)**2)**0.5\n",
    "    F = (((4*eps*(((-12*sig**12)/(Rij**13))+((6*sig**6)/(Rij**7)))) / Rij) * ((p1 - p2)/Rij)) * (-1)\n",
    "    negF = (((4*eps*(((-12*sig**12)/(Rij**13))+((6*sig**6)/(Rij**7)))) / Rij) * ((p1 - p2)/Rij))\n",
    "    return F, negF"
   ]
  },
  {
   "cell_type": "code",
   "execution_count": 6,
   "id": "aac3764d-e12f-4606-bccf-9147acc7433e",
   "metadata": {},
   "outputs": [
    {
     "name": "stdout",
     "output_type": "stream",
     "text": [
      "(array([-0.       , -0.       ,  0.0956746]), array([ 0.       ,  0.       , -0.0956746]))\n"
     ]
    }
   ],
   "source": [
    "Fij = force(positions1,positions2)\n",
    "\n",
    "print(Fij)"
   ]
  },
  {
   "cell_type": "markdown",
   "id": "9a0aeea8-4055-485d-92ad-4b418f0aa9ed",
   "metadata": {},
   "source": [
    "4c"
   ]
  },
  {
   "cell_type": "code",
   "execution_count": 7,
   "id": "cae753d9-9aeb-4e8f-9056-92be13c126ab",
   "metadata": {},
   "outputs": [],
   "source": [
    "def calcforce(p1,p2):\n",
    "    sig = 4.1\n",
    "    eps = 1.77\n",
    "    Rij = np.sum((p1-p2)**2)**0.5 # Rij = np.linalg.norm(p1-p2) will work the same.\n",
    "    F = ((4*eps*(((-12*sig**12)/(Rij**13))+((6*sig**6)/(Rij**7)))) * ((p1 - p2)/Rij)) * (-1)\n",
    "    return F"
   ]
  },
  {
   "cell_type": "code",
   "execution_count": 8,
   "id": "7c24e1bb-80c4-428e-802c-13041e2ae7d5",
   "metadata": {},
   "outputs": [],
   "source": [
    "atomposition2 = position(2)"
   ]
  },
  {
   "cell_type": "code",
   "execution_count": 9,
   "id": "b92eb6e8-722c-4478-b030-cb923e1c1cef",
   "metadata": {},
   "outputs": [
    {
     "name": "stdout",
     "output_type": "stream",
     "text": [
      "[[ 0.5596659  0.5596659  0.5596659]\n",
      " [ 0.5596659  0.5596659 -0.5596659]\n",
      " [ 0.5596659 -0.5596659  0.5596659]\n",
      " [ 0.5596659 -0.5596659 -0.5596659]\n",
      " [-0.5596659  0.5596659  0.5596659]\n",
      " [-0.5596659  0.5596659 -0.5596659]\n",
      " [-0.5596659 -0.5596659  0.5596659]\n",
      " [-0.5596659 -0.5596659 -0.5596659]]\n"
     ]
    }
   ],
   "source": [
    "n=2\n",
    "opt_force = np.array([])\n",
    "totalforce = np.array([0.0,0.0,0.0])\n",
    "for k in range(0, n**3):\n",
    "    for h in range(0, n**3):\n",
    "        if k != h:\n",
    "            Fi = calcforce(atomposition2[k], atomposition2[h])\n",
    "            totalforce += Fi # np.add(Fi, totalforce)\n",
    "            \n",
    "    opt_force = np.append(opt_force, totalforce)\n",
    "    totalforce = np.array([0.0, 0.0, 0.0])\n",
    "opt_force = np.reshape(opt_force, (n**3, 3))\n",
    "print(opt_force)"
   ]
  },
  {
   "cell_type": "markdown",
   "id": "83ffc8f6-809a-44ee-9a51-bd1c61a9e9be",
   "metadata": {},
   "source": [
    "4d"
   ]
  },
  {
   "cell_type": "code",
   "execution_count": 10,
   "id": "ac18315e-be1e-4ac4-8098-087ec6477cc4",
   "metadata": {},
   "outputs": [],
   "source": [
    "opt_position = position(3)"
   ]
  },
  {
   "cell_type": "code",
   "execution_count": 11,
   "id": "6ce740af-33a7-45b6-9cea-8ea23548ea78",
   "metadata": {},
   "outputs": [],
   "source": [
    "def totforcematrix(cube):    \n",
    "    atomforce3 = np.array([])\n",
    "    totalforce = np.array([0.0, 0.0, 0.0])\n",
    "    for i in range(0, cube.shape[0]):\n",
    "        for j in range(0, cube.shape[0]):\n",
    "            if i != j:\n",
    "                Fi = calcforce(cube[i], cube[j])\n",
    "                totalforce += Fi# np.add(Fi, totalforce)\n",
    "\n",
    "        atomforce3 = np.append(atomforce3, totalforce)\n",
    "        totalforce = np.array([0.0, 0.0, 0.0])\n",
    "    atomforce3 = np.reshape(atomforce3, (cube.shape[0], 3))\n",
    "    return atomforce3"
   ]
  },
  {
   "cell_type": "code",
   "execution_count": 12,
   "id": "6fdd3b31-73e4-4c1a-bd00-0417767028dc",
   "metadata": {},
   "outputs": [],
   "source": [
    "def totenergycube(cube):\n",
    "    TotalE = 0\n",
    "    for i in range(0, cube.shape[0]):\n",
    "        for j in range(0, cube.shape[0]):\n",
    "            if i != j:\n",
    "                TotalE = TotalE + pot(cube[i], cube[j])\n",
    "    TotalE = TotalE/2\n",
    "    return TotalE"
   ]
  },
  {
   "cell_type": "code",
   "execution_count": 13,
   "id": "cb6bd7f0-db29-49ef-a76a-d063119cc0a3",
   "metadata": {},
   "outputs": [
    {
     "name": "stdout",
     "output_type": "stream",
     "text": [
      "[[ 6.61746160e-01  6.61746160e-01  6.61746160e-01]\n",
      " [ 9.80031637e-01  9.80031637e-01  0.00000000e+00]\n",
      " [ 6.61746160e-01  6.61746160e-01 -6.61746160e-01]\n",
      " [ 9.80031637e-01  5.31259065e-18  9.80031637e-01]\n",
      " [ 1.35152313e+00  2.73218947e-17  0.00000000e+00]\n",
      " [ 9.80031637e-01 -8.67361738e-19 -9.80031637e-01]\n",
      " [ 6.61746160e-01 -6.61746160e-01  6.61746160e-01]\n",
      " [ 9.80031637e-01 -9.80031637e-01  0.00000000e+00]\n",
      " [ 6.61746160e-01 -6.61746160e-01 -6.61746160e-01]\n",
      " [ 6.25584654e-17  9.80031637e-01  9.80031637e-01]\n",
      " [ 8.97719399e-17  1.35152313e+00  0.00000000e+00]\n",
      " [-5.29090660e-17  9.80031637e-01 -9.80031637e-01]\n",
      " [ 3.90312782e-18  3.90312782e-18  1.35152313e+00]\n",
      " [ 1.38777878e-16  2.77555756e-17  0.00000000e+00]\n",
      " [ 0.00000000e+00  0.00000000e+00 -1.35152313e+00]\n",
      " [ 5.46437895e-17 -9.80031637e-01  9.80031637e-01]\n",
      " [-5.55111512e-17 -1.35152313e+00  0.00000000e+00]\n",
      " [-3.99680289e-17 -9.80031637e-01 -9.80031637e-01]\n",
      " [-6.61746160e-01  6.61746160e-01  6.61746160e-01]\n",
      " [-9.80031637e-01  9.80031637e-01  0.00000000e+00]\n",
      " [-6.61746160e-01  6.61746160e-01 -6.61746160e-01]\n",
      " [-9.80031637e-01 -8.67361738e-19  9.80031637e-01]\n",
      " [-1.35152313e+00  5.55111512e-17  0.00000000e+00]\n",
      " [-9.80031637e-01  1.55431223e-17 -9.80031637e-01]\n",
      " [-6.61746160e-01 -6.61746160e-01  6.61746160e-01]\n",
      " [-9.80031637e-01 -9.80031637e-01  0.00000000e+00]\n",
      " [-6.61746160e-01 -6.61746160e-01 -6.61746160e-01]]\n"
     ]
    }
   ],
   "source": [
    "cubeforcein = totforcematrix(position(3))\n",
    "print(cubeforcein)"
   ]
  },
  {
   "cell_type": "code",
   "execution_count": 14,
   "id": "654525d6-3c2c-4c4d-a488-e20fefeb770c",
   "metadata": {},
   "outputs": [],
   "source": [
    "def optcube(cube, size, steps):\n",
    "    step_energy = np.array([])\n",
    "    for i in range(0, steps):\n",
    "        forcematrix = totforcematrix(cube)\n",
    "        energystep = totenergycube(cube)\n",
    "        step_energy = np.append(step_energy, energystep)\n",
    "        normalize = np.linalg.norm(forcematrix)\n",
    "        stepsize = forcematrix / normalize * size\n",
    "        cube += stepsize\n",
    "    return cube, step_energy"
   ]
  },
  {
   "cell_type": "code",
   "execution_count": 15,
   "id": "6a0dfa11-0484-4e80-9370-fa68b0f5a444",
   "metadata": {},
   "outputs": [
    {
     "name": "stdout",
     "output_type": "stream",
     "text": [
      "[[ 1.0768817   1.08152031  0.88435805]\n",
      " [ 0.16794033 -1.40446488  4.61058615]\n",
      " [ 1.06553221  1.10042057  8.32689485]\n",
      " [ 1.09463531  5.60941747  0.88389326]\n",
      " [-0.19751402  3.31553071  4.59804246]\n",
      " [ 1.0833194   5.62826183  8.30441685]\n",
      " [ 1.19058852 10.20282896  0.91437916]\n",
      " [-0.13322759  7.91022651  4.5864723 ]\n",
      " [ 1.17940071 10.22145998  8.25089449]\n",
      " [ 4.93527682 -1.27072277  0.99943094]\n",
      " [ 3.78517149  1.16307339  4.609582  ]\n",
      " [ 4.92424213 -1.25234673  8.23553847]\n",
      " [ 5.03566312  3.32455063  0.89157043]\n",
      " [ 3.73513116  5.6075669   4.59821893]\n",
      " [ 5.02433459  3.34341598  8.32036415]\n",
      " [ 5.02901746  7.82103402  0.86637307]\n",
      " [ 3.90277452 10.17702791  4.58687047]\n",
      " [ 5.01764694  7.83996931  8.32270344]\n",
      " [ 8.92560579  1.02333066  0.88733915]\n",
      " [ 7.65279742 -1.22962442  4.62155616]\n",
      " [ 8.91422844  1.04227732  8.34814693]\n",
      " [ 8.99491465  5.61696882  0.86745508]\n",
      " [ 7.68636347  3.31081627  4.61007694]\n",
      " [ 8.98351192  5.63595776  8.34491122]\n",
      " [ 8.76140067 10.33601088  1.11882644]\n",
      " [ 7.67010937  7.7483809   4.59878299]\n",
      " [ 8.75080222 10.35366044  8.06886437]]\n"
     ]
    }
   ],
   "source": [
    "optmid, energy_mid = optcube(position(3), 0.01, 3000)\n",
    "print(optmid)"
   ]
  },
  {
   "cell_type": "markdown",
   "id": "d7334712-d4ec-4285-a75b-886d4703b686",
   "metadata": {},
   "source": [
    "4f"
   ]
  },
  {
   "cell_type": "code",
   "execution_count": 16,
   "id": "372297ec-e2f6-4726-9f80-0851f0d3a505",
   "metadata": {},
   "outputs": [],
   "source": [
    "optsmall, energy_small = optcube(position(3), 0.001, 3000)\n",
    "optbig, energy_big = optcube(position(3), 0.1, 3000)"
   ]
  },
  {
   "cell_type": "code",
   "execution_count": 17,
   "id": "d2cc2e93-6f4c-4291-8287-f57356314362",
   "metadata": {},
   "outputs": [
    {
     "data": {
      "image/png": "[encoded data removed]",
      "text/plain": [
       "<Figure size 640x480 with 1 Axes>"
      ]
     },
     "metadata": {},
     "output_type": "display_data"
    }
   ],
   "source": [
    "fig, ax = plt.subplots()\n",
    "ax.plot(range(0, 3000), energy_small, label = 'Step 0.001')\n",
    "ax.plot(range(0, 3000), energy_mid, label = 'Step 0.01')\n",
    "ax.plot(range(0, 3000), energy_big, label = 'Step 0.1')\n",
    "ax.set_xlabel('Step Number')\n",
    "ax.set_ylabel('Total PE (kJ/mol)')\n",
    "ax.legend()\n",
    "\n",
    "plt.show()"
   ]
  },
  {
   "cell_type": "markdown",
   "id": "4d548561-b5c5-44be-81a6-1c9c2d7edacf",
   "metadata": {},
   "source": [
    "With too large of a stepsize, it may not optimized to as low of a minimum in PE as it will just step over the minimul in the last steps. With too small a stepsize, the optimization will take a lot of steps but we have a clearer PE minimization curve. Ideally, you could optimize something to a structure that is closer to the \"true minimum\" and do it in less steps so it takes less time which is why it's important to not make the step too small or too big. "
   ]
  }
 ],
 "metadata": {
  "kernelspec": {
   "display_name": "Python 3 (ipykernel)",
   "language": "python",
   "name": "python3"
  },
  "language_info": {
   "codemirror_mode": {
    "name": "ipython",
    "version": 3
   },
   "file_extension": ".py",
   "mimetype": "text/x-python",
   "name": "python",
   "nbconvert_exporter": "python",
   "pygments_lexer": "ipython3",
   "version": "3.9.13"
  }
 },
 "nbformat": 4,
 "nbformat_minor": 5
}
