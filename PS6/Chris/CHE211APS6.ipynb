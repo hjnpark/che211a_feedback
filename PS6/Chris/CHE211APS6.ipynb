{
 "cells": [
  {
   "cell_type": "code",
   "execution_count": 1,
   "id": "603229a2",
   "metadata": {},
   "outputs": [],
   "source": [
    "import numpy as np\n",
    "import matplotlib.pyplot as plt\n",
    "import math"
   ]
  },
  {
   "cell_type": "markdown",
   "id": "5dd06165",
   "metadata": {},
   "source": [
    "**Problem 1**"
   ]
  },
  {
   "cell_type": "code",
   "execution_count": 2,
   "id": "180aa2e4",
   "metadata": {},
   "outputs": [],
   "source": [
    "# Boltzmann constant in kJ/mol\n",
    "kb = 1.38064852e-23\n",
    "# Planck's constant\n",
    "h = 6.62607004e-34\n",
    "# Avogadro's number\n",
    "NA = 6.0221409e23\n",
    "# Speed of light\n",
    "c = 299792458\n",
    "T = 850\n",
    "hbar = h/(2*np.pi)"
   ]
  },
  {
   "cell_type": "markdown",
   "id": "66da834b",
   "metadata": {},
   "source": [
    "**Z_trans For NH3, N2, H2**\n"
   ]
  },
  {
   "cell_type": "code",
   "execution_count": 3,
   "id": "0b708bfc",
   "metadata": {},
   "outputs": [],
   "source": [
    "mass1=17.031/(NA*1000)\n",
    "NH3_trans = ((math.sqrt(2*np.pi*mass1*kb*T))/(h))**3"
   ]
  },
  {
   "cell_type": "code",
   "execution_count": 4,
   "id": "8cb0b8c3",
   "metadata": {},
   "outputs": [],
   "source": [
    "mass2=28.014/(NA*1000)\n",
    "N2_trans = (((math.sqrt(2*np.pi*mass2*kb*T))/(h))**3)**0.5"
   ]
  },
  {
   "cell_type": "code",
   "execution_count": 5,
   "id": "a747a035",
   "metadata": {},
   "outputs": [],
   "source": [
    "mass3=2.106/(NA*1000)\n",
    "H2_trans = (((math.sqrt(2*np.pi*mass3*kb*T))/(h))**3)**1.5"
   ]
  },
  {
   "cell_type": "code",
   "execution_count": 6,
   "id": "c6123506",
   "metadata": {},
   "outputs": [],
   "source": [
    "K_trans = (NH3_trans)/(N2_trans*H2_trans)"
   ]
  },
  {
   "cell_type": "code",
   "execution_count": 7,
   "id": "732cf508",
   "metadata": {},
   "outputs": [
    {
     "data": {
      "text/plain": [
       "0.0001396882423144506"
      ]
     },
     "execution_count": 7,
     "metadata": {},
     "output_type": "execute_result"
    }
   ],
   "source": [
    "K_trans*6.022e26"
   ]
  },
  {
   "cell_type": "markdown",
   "id": "48bfae88",
   "metadata": {},
   "source": [
    "**Z_rot for NH3, N2, H2**"
   ]
  },
  {
   "cell_type": "code",
   "execution_count": 8,
   "id": "90972485",
   "metadata": {},
   "outputs": [],
   "source": [
    "T = 850\n",
    "A = 23.93\n",
    "N2_rot = ((kb*T/2*A))**0.5"
   ]
  },
  {
   "cell_type": "code",
   "execution_count": 9,
   "id": "a9612951",
   "metadata": {},
   "outputs": [],
   "source": [
    "T = 850\n",
    "B = 728.64\n",
    "H2_rot = ((kb*T/2*B))**1.5"
   ]
  },
  {
   "cell_type": "code",
   "execution_count": 10,
   "id": "386c3527",
   "metadata": {},
   "outputs": [],
   "source": [
    "T = 850\n",
    "C = 113.08\n",
    "D = 113.08\n",
    "E = 74.19\n",
    "\n",
    "NH3_rot = (math.sqrt(np.pi)/6)*(math.sqrt((kb*T)**3)/math.sqrt((C*D*E)))"
   ]
  },
  {
   "cell_type": "code",
   "execution_count": 11,
   "id": "0ebae765",
   "metadata": {},
   "outputs": [
    {
     "name": "stdout",
     "output_type": "stream",
     "text": [
      "116.39472552384274\n"
     ]
    }
   ],
   "source": [
    "K_rot = (NH3_rot)/(N2_rot*H2_rot)\n",
    "print(K_rot)"
   ]
  },
  {
   "cell_type": "markdown",
   "id": "65d5967f",
   "metadata": {},
   "source": [
    "**Z_vib for NH3, N2, H2**"
   ]
  },
  {
   "cell_type": "code",
   "execution_count": 12,
   "id": "cca67823",
   "metadata": {},
   "outputs": [
    {
     "name": "stdout",
     "output_type": "stream",
     "text": [
      "1.061412768154915\n"
     ]
    }
   ],
   "source": [
    "w =7.07e13\n",
    "sigmavib = (hbar*w/kb)\n",
    "T = 850\n",
    "N2vib = np.exp(-sigmavib/(2*T))/(1-np.exp(-sigmavib/T))**0.5\n",
    "print(N2vib)"
   ]
  },
  {
   "cell_type": "code",
   "execution_count": 13,
   "id": "c2af9d91",
   "metadata": {},
   "outputs": [],
   "source": [
    "w = 1e14\n",
    "sigmavib = (hbar*w/kb)\n",
    "T = 850\n",
    "NH3_1vib = np.exp(-sigmavib/(2*T))/(1-np.exp(-sigmavib/T))"
   ]
  },
  {
   "cell_type": "code",
   "execution_count": 14,
   "id": "71ac52a6",
   "metadata": {},
   "outputs": [],
   "source": [
    "w =2.85e13\n",
    "sigmavib = (hbar*w/kb)\n",
    "T = 850\n",
    "NH3_2vib = np.exp(-sigmavib/(2*T))/(1-np.exp(-sigmavib/T))"
   ]
  },
  {
   "cell_type": "code",
   "execution_count": 15,
   "id": "fd9bae94",
   "metadata": {},
   "outputs": [],
   "source": [
    "w =1.03e14\n",
    "sigmavib = (hbar*w/kb)\n",
    "T = 850\n",
    "NH3_3vib = np.exp(-sigmavib/(2*T))/(1-np.exp(-sigmavib/T))"
   ]
  },
  {
   "cell_type": "code",
   "execution_count": 16,
   "id": "3625d91f",
   "metadata": {},
   "outputs": [],
   "source": [
    "w = 4.88e13\n",
    "sigmavib = (hbar*w/kb)\n",
    "T = 850\n",
    "NH3_4vib = np.exp(-sigmavib/(2*T))/(1-np.exp(-sigmavib/T))"
   ]
  },
  {
   "cell_type": "code",
   "execution_count": 17,
   "id": "05087860",
   "metadata": {},
   "outputs": [],
   "source": [
    "NH3_total_vibtotal = NH3_1vib*NH3_2vib*NH3_3vib*NH3_4vib"
   ]
  },
  {
   "cell_type": "code",
   "execution_count": 18,
   "id": "9dc8edf3",
   "metadata": {},
   "outputs": [],
   "source": [
    "w = 1.32e14\n",
    "sigmavib = (hbar*w/kb)\n",
    "T =850\n",
    "H2vib = (np.exp(-sigmavib/(2*T))/(1-np.exp(-sigmavib/T)))**1.5"
   ]
  },
  {
   "cell_type": "code",
   "execution_count": 19,
   "id": "a4badeb7",
   "metadata": {},
   "outputs": [
    {
     "name": "stdout",
     "output_type": "stream",
     "text": [
      "7.446327698346318\n"
     ]
    }
   ],
   "source": [
    "K_vib_total = N2vib*NH3_total_vibtotal*H2vib\n",
    "print(K_vib_total)"
   ]
  },
  {
   "cell_type": "markdown",
   "id": "e909992b",
   "metadata": {},
   "source": [
    "**Z_el for NH3, N2,H2**"
   ]
  },
  {
   "cell_type": "code",
   "execution_count": 38,
   "id": "0ad8531b",
   "metadata": {},
   "outputs": [
    {
     "name": "stdout",
     "output_type": "stream",
     "text": [
      "0.0\n"
     ]
    }
   ],
   "source": [
    "NH3el = np.exp(-12.88/(kb*T))\n",
    "print(NH3el)"
   ]
  },
  {
   "cell_type": "code",
   "execution_count": 35,
   "id": "fc2428e8",
   "metadata": {},
   "outputs": [],
   "source": [
    "N2el = (np.exp((-9.788/kb*T )))**0.5 "
   ]
  },
  {
   "cell_type": "code",
   "execution_count": 36,
   "id": "14b03164",
   "metadata": {},
   "outputs": [],
   "source": [
    "H2el = (np.exp(-(4.74/kb*T )))**1.5"
   ]
  },
  {
   "cell_type": "code",
   "execution_count": 37,
   "id": "540b5af6",
   "metadata": {},
   "outputs": [
    {
     "name": "stdout",
     "output_type": "stream",
     "text": [
      "0.0\n"
     ]
    }
   ],
   "source": [
    "K_el = NH3el*N2el*H2el\n",
    "print(K_el)"
   ]
  },
  {
   "cell_type": "markdown",
   "id": "3bccb369",
   "metadata": {},
   "source": [
    "**Keq at 850C**"
   ]
  },
  {
   "cell_type": "code",
   "execution_count": 40,
   "id": "5ebd1cd3",
   "metadata": {},
   "outputs": [
    {
     "name": "stdout",
     "output_type": "stream",
     "text": [
      "0.12106965308268834\n"
     ]
    }
   ],
   "source": [
    "Keq = (K_trans*6.022e26)*K_rot*K_vib_total\n",
    "print(Keq)"
   ]
  },
  {
   "cell_type": "code",
   "execution_count": 48,
   "id": "a43c03b2",
   "metadata": {},
   "outputs": [
    {
     "data": {
      "text/plain": [
       "[<matplotlib.lines.Line2D at 0x1a89764c220>]"
      ]
     },
     "execution_count": 48,
     "metadata": {},
     "output_type": "execute_result"
    },
    {
     "data": {
      "image/png": "[encoded data removed]",
      "text/plain": [
       "<Figure size 432x288 with 1 Axes>"
      ]
     },
     "metadata": {
      "needs_background": "light"
     },
     "output_type": "display_data"
    }
   ],
   "source": [
    "#Haber Empirical Fit\n",
    "T = 850\n",
    "Keq_log = (2.1+(2098/T) - 2.5088*math.log10( T ) - 1.066e-4*T +1.86e-7 * T**2) + math.log10( 0.0821 *T )\n",
    "plt.plot(Keq_log)"
   ]
  },
  {
   "cell_type": "markdown",
   "id": "4dbf628f",
   "metadata": {},
   "source": [
    "**Problem 2**"
   ]
  },
  {
   "cell_type": "code",
   "execution_count": 56,
   "id": "775bd062",
   "metadata": {},
   "outputs": [],
   "source": [
    "from openmm.app import *\n",
    "from openmm import *\n",
    "from openmm.unit import *"
   ]
  },
  {
   "cell_type": "code",
   "execution_count": 58,
   "id": "4c392ef4",
   "metadata": {},
   "outputs": [],
   "source": [
    "pdb = PDBFile('waterbox.pdb')\n",
    "ff = ForceField('tip3p.xml')"
   ]
  },
  {
   "cell_type": "code",
   "execution_count": 59,
   "id": "6a11a700",
   "metadata": {},
   "outputs": [],
   "source": [
    "system = ff.createSystem(pdb.topology, nonbondedMethod=PME, nonbondedCutoff=0.9*nanometer, rigidWater=True) "
   ]
  },
  {
   "cell_type": "code",
   "execution_count": 60,
   "id": "d6667eb7",
   "metadata": {},
   "outputs": [],
   "source": [
    "integ = LangevinIntegrator(300*kelvin, 1.0/picosecond, 2*femtosecond) "
   ]
  },
  {
   "cell_type": "code",
   "execution_count": 61,
   "id": "0943d469",
   "metadata": {},
   "outputs": [],
   "source": [
    "baro = MonteCarloBarostat(1.0*atmosphere, 300*kelvin)"
   ]
  },
  {
   "cell_type": "code",
   "execution_count": 62,
   "id": "c29041e8",
   "metadata": {},
   "outputs": [
    {
     "data": {
      "text/plain": [
       "4"
      ]
     },
     "execution_count": 62,
     "metadata": {},
     "output_type": "execute_result"
    }
   ],
   "source": [
    "system.addForce(baro)"
   ]
  },
  {
   "cell_type": "code",
   "execution_count": 63,
   "id": "7d8d40a8",
   "metadata": {},
   "outputs": [],
   "source": [
    "simul = Simulation(pdb.topology, system, integ)"
   ]
  },
  {
   "cell_type": "code",
   "execution_count": 64,
   "id": "5ffb94d9",
   "metadata": {},
   "outputs": [],
   "source": [
    "simul.context.setPositions(pdb.positions)"
   ]
  },
  {
   "cell_type": "code",
   "execution_count": 65,
   "id": "ca18c7ff",
   "metadata": {},
   "outputs": [
    {
     "data": {
      "text/plain": [
       "Quantity(value=-36027.280711420346, unit=kilojoule/mole)"
      ]
     },
     "execution_count": 65,
     "metadata": {},
     "output_type": "execute_result"
    }
   ],
   "source": [
    "simul.context.getState(getEnergy=True).getPotentialEnergy()"
   ]
  },
  {
   "cell_type": "code",
   "execution_count": 66,
   "id": "3839d3dc",
   "metadata": {},
   "outputs": [],
   "source": [
    "simul.reporters.append(DCDReporter('waterbox-dynamics.dcd', 100))"
   ]
  },
  {
   "cell_type": "code",
   "execution_count": 67,
   "id": "9cef416a",
   "metadata": {},
   "outputs": [],
   "source": [
    "import sys"
   ]
  },
  {
   "cell_type": "code",
   "execution_count": 68,
   "id": "c4372282",
   "metadata": {},
   "outputs": [
    {
     "name": "stdout",
     "output_type": "stream",
     "text": [
      "#\"Progress (%)\"\t\"Step\"\t\"Total Energy (kJ/mole)\"\t\"Temperature (K)\"\t\"Density (g/mL)\"\t\"Speed (ns/day)\"\n",
      "2.0%\t1000\t-30988.32898668843\t281.0369193008113\t0.9948676729182415\t--\n",
      "4.0%\t2000\t-29913.761623878265\t288.98657636865283\t1.001694341427574\t59.4\n",
      "6.0%\t3000\t-29481.09505448147\t293.03077448957026\t0.9796594597565658\t53.9\n",
      "8.0%\t4000\t-28889.464993430272\t296.86499141485\t0.9741659802434228\t55.8\n",
      "10.0%\t5000\t-28754.070227312593\t303.1120665385679\t0.9757217698346016\t54.5\n",
      "12.0%\t6000\t-28655.760185015533\t296.9288646328187\t0.9719823357775571\t55.6\n",
      "14.0%\t7000\t-28727.60273816454\t302.7577878024505\t0.9733252017570726\t56.9\n",
      "16.0%\t8000\t-28826.205803215853\t305.93422123704113\t0.9883271479650166\t55.7\n",
      "18.0%\t9000\t-29236.590881994314\t290.37079127394935\t0.9833392893947985\t55.3\n",
      "20.0%\t10000\t-28726.134113667184\t309.7628269567329\t0.9812067259247843\t55.1\n",
      "22.0%\t11000\t-28999.42666381228\t294.0900096573489\t0.9635021707158712\t54.9\n",
      "24.0%\t12000\t-28883.19331672936\t296.68278496086776\t0.9743434018588703\t53.8\n",
      "26.0%\t13000\t-28666.99356373807\t303.52197703246196\t0.9803541791769632\t52.8\n",
      "28.0%\t14000\t-28760.936045140726\t308.83305004245125\t0.9887758895250519\t53.1\n",
      "30.0%\t15000\t-28375.97506875373\t316.3769019031063\t0.9846721022608418\t53.5\n",
      "32.0%\t16000\t-28844.45620747615\t307.66504898447374\t0.9705492253778926\t54\n",
      "34.0%\t17000\t-29085.860766619953\t302.6872657856557\t0.9944179719813867\t54.5\n",
      "36.0%\t18000\t-29241.486595336435\t299.75287898563096\t0.9834534311224493\t54.6\n",
      "38.0%\t19000\t-29389.868100954423\t297.3115855053463\t0.9821643389932891\t55\n",
      "40.0%\t20000\t-29035.61357173964\t292.76014852390125\t0.9609441763605194\t55.4\n",
      "42.0%\t21000\t-29035.09562314616\t301.320306351138\t0.9798894105379881\t55\n",
      "44.0%\t22000\t-29104.482429965545\t294.28229840688823\t0.9775354362040085\t54.2\n",
      "46.0%\t23000\t-29007.836447588226\t305.7105437940065\t0.9793410879044235\t53.6\n",
      "48.0%\t24000\t-28881.282479966205\t300.46552489163344\t0.9685960092847937\t53.8\n",
      "50.0%\t25000\t-29133.116024078336\t297.74620370453187\t0.9895760316404122\t53.6\n",
      "52.0%\t26000\t-29131.886592190596\t304.77627011546684\t0.986213840754485\t53.8\n",
      "54.0%\t27000\t-29122.359709985845\t295.65660063715\t0.9872921600716905\t54.1\n",
      "56.0%\t28000\t-28646.880774489575\t305.2372348560145\t0.9594739876483774\t53.9\n",
      "58.0%\t29000\t-28906.285237044067\t290.7061221395669\t0.9800000334397465\t53.9\n",
      "60.0%\t30000\t-29025.21041659487\t305.0820751756982\t0.9758724962847376\t53.9\n",
      "62.0%\t31000\t-28935.68465551958\t304.75161450265324\t0.9849627002665235\t53.6\n",
      "64.0%\t32000\t-29007.391503045335\t300.6688130981494\t0.9901600944943786\t53.6\n",
      "66.0%\t33000\t-29278.500706654682\t294.3473836167843\t0.9887904676467381\t53.6\n",
      "68.0%\t34000\t-29125.676873696037\t296.90560003589974\t0.9949473753294772\t53.6\n",
      "70.0%\t35000\t-28966.87691443612\t305.64352780190205\t0.9794063637308349\t53.5\n",
      "72.0%\t36000\t-28950.143326175283\t300.98259175743004\t0.9865946032057847\t53.4\n",
      "74.0%\t37000\t-28979.750137285766\t304.48839469030145\t0.9855706066416126\t53.2\n",
      "76.0%\t38000\t-29493.339654882235\t297.734055840961\t1.003376776093705\t53.2\n",
      "78.0%\t39000\t-29007.060673509957\t303.9101212778201\t0.9848492996758983\t53.3\n",
      "80.0%\t40000\t-28895.644418860815\t298.64047117425264\t0.9713027666444305\t53.2\n",
      "82.0%\t41000\t-29343.09259759428\t301.665214438637\t0.9810813827804881\t53.2\n",
      "84.0%\t42000\t-29011.549013477255\t301.90027680853933\t0.9791000002210756\t53.3\n",
      "86.0%\t43000\t-28821.573443144473\t310.05012060993784\t1.0000755954055072\t53.4\n",
      "88.0%\t44000\t-28854.08445584643\t304.2204093957284\t0.9675113100916484\t53.5\n",
      "90.0%\t45000\t-28864.715323123033\t305.5165967155328\t0.9803854273990056\t53.7\n",
      "92.0%\t46000\t-29396.85735168899\t292.3915644640417\t0.9795879800410283\t53.9\n",
      "94.0%\t47000\t-29248.55341427878\t292.26231767849436\t0.9768849452099955\t54\n",
      "96.0%\t48000\t-29029.48480008138\t302.08566137322754\t0.9767345991571593\t54.2\n",
      "98.0%\t49000\t-28931.014723638305\t306.4128194308868\t0.984616304506307\t54.3\n",
      "100.0%\t50000\t-29171.030484888877\t301.97549390794984\t0.9998575371478171\t54.2\n"
     ]
    }
   ],
   "source": [
    "simul.reporters.append(StateDataReporter(sys.stdout, 1000, step=True, totalEnergy=True, temperature=True,density=True, progress=True, speed=True, separator='\\t', totalSteps=50000))\n",
    "simul.step(50000)"
   ]
  },
  {
   "cell_type": "markdown",
   "id": "64e20fe2",
   "metadata": {},
   "source": [
    "**Part B and C**"
   ]
  },
  {
   "cell_type": "code",
   "execution_count": 70,
   "id": "1b508873",
   "metadata": {},
   "outputs": [
    {
     "data": {
      "image/png": "[encoded data removed]",
      "text/plain": [
       "<Figure size 432x288 with 1 Axes>"
      ]
     },
     "metadata": {
      "needs_background": "light"
     },
     "output_type": "display_data"
    }
   ],
   "source": [
    "#300K\n",
    "data = np.loadtxt('rdf_graph_300K_tip3p.dat')\n",
    "x = data[:,0]\n",
    "y = data[:,1]\n",
    "integral = data[:,2]\n",
    "plt.plot(x,y)\n",
    "plt.xlabel('r (Angstrom)')\n",
    "plt.ylabel('Radial Distribution Function g(r)')\n",
    "plt.show()"
   ]
  },
  {
   "cell_type": "code",
   "execution_count": 72,
   "id": "f37c361b",
   "metadata": {},
   "outputs": [
    {
     "name": "stdout",
     "output_type": "stream",
     "text": [
      "#\"Progress (%)\"\t\"Step\"\t\"Total Energy (kJ/mole)\"\t\"Temperature (K)\"\t\"Density (g/mL)\"\t\"Speed (ns/day)\"\n",
      "2.0%\t1000\t-27256.06736964875\t317.44773441145986\t0.9738641040908603\t--\n",
      "4.0%\t2000\t-25424.982686531992\t358.54254455183263\t0.9386831350243229\t62.7\n",
      "6.0%\t3000\t-24793.586177106365\t369.2148204514073\t0.9281807287032081\t62\n",
      "8.0%\t4000\t-24564.884012505674\t360.0079368786157\t0.905541107237604\t62.4\n",
      "10.0%\t5000\t-24297.910009527463\t362.34560511611744\t0.9179390799805428\t60.6\n",
      "12.0%\t6000\t-24480.186380494328\t355.4529438078958\t0.9231426507025606\t61.4\n",
      "14.0%\t7000\t-23970.56117695963\t371.9541243439457\t0.917226779508387\t61.9\n",
      "16.0%\t8000\t-24118.601213955786\t371.8862705616505\t0.9062477157320317\t61.9\n",
      "18.0%\t9000\t-23645.911157434923\t377.80949769355595\t0.9180763161773947\t61.9\n",
      "20.0%\t10000\t-23855.99292238435\t382.69378440962134\t0.919229834129483\t62.2\n",
      "22.0%\t11000\t-24032.95564018021\t368.61057785352716\t0.9148019443858386\t62.4\n",
      "24.0%\t12000\t-24144.96215651068\t383.93940998425285\t0.9077441673801246\t62.6\n",
      "26.0%\t13000\t-24101.36479713922\t370.83168465512034\t0.9126719822283056\t62.8\n",
      "28.0%\t14000\t-24745.07667410007\t365.74347977793616\t0.9143380000772721\t62.7\n",
      "30.0%\t15000\t-24711.091010715143\t356.1668019116772\t0.9238917132899803\t62.6\n",
      "32.0%\t16000\t-24438.677838241623\t365.30964990517487\t0.9351511951194165\t61.8\n",
      "34.0%\t17000\t-24492.64998666945\t365.0525442808215\t0.9242021660164366\t62\n",
      "36.0%\t18000\t-24533.08829568245\t360.93188104092934\t0.9053533077022659\t62.1\n",
      "38.0%\t19000\t-24153.615286796907\t371.92320689548325\t0.9104576504961159\t62.2\n",
      "40.0%\t20000\t-24012.702317435265\t367.90551381830534\t0.8972728974447662\t61.9\n",
      "42.0%\t21000\t-23568.121831184835\t381.82105733789234\t0.9100299785973064\t61.6\n",
      "44.0%\t22000\t-23960.361338522984\t370.44935400534183\t0.9130244492832229\t61.7\n",
      "46.0%\t23000\t-23715.50345015418\t377.3338478628614\t0.9220710963171185\t61.8\n",
      "48.0%\t24000\t-24588.60361964107\t362.32389104841496\t0.9173098452161912\t61.9\n",
      "50.0%\t25000\t-24480.081528423645\t364.848340201143\t0.9147095923519306\t61.9\n",
      "52.0%\t26000\t-24377.87663840523\t362.65625705058113\t0.9057033035682364\t61.5\n",
      "54.0%\t27000\t-24053.18092114001\t371.72003980949984\t0.894688813718711\t61.4\n",
      "56.0%\t28000\t-23910.894297003164\t381.71555846304926\t0.9013236885103857\t61.4\n",
      "58.0%\t29000\t-24179.8617164577\t373.478990189149\t0.9093889110209067\t61.3\n",
      "60.0%\t30000\t-24485.26927568944\t356.014806975136\t0.9089466963665478\t61.3\n",
      "62.0%\t31000\t-24225.554754075885\t384.07365752425653\t0.8990259363059977\t61.4\n",
      "64.0%\t32000\t-24483.934320441767\t360.17683980881856\t0.9075426642897793\t61.4\n",
      "66.0%\t33000\t-24305.93228079882\t350.7801150080322\t0.9124162388020772\t61.4\n",
      "68.0%\t34000\t-23949.180809441546\t373.4038073888329\t0.8863881709327113\t61.3\n",
      "70.0%\t35000\t-23941.778507507115\t364.0321147953971\t0.9156641484319579\t60.9\n",
      "72.0%\t36000\t-23951.66572022575\t372.1458035261596\t0.9299638030068196\t60.8\n",
      "74.0%\t37000\t-24563.7718158293\t347.5084293562332\t0.9154761083734982\t60.6\n",
      "76.0%\t38000\t-24766.763872977404\t364.28422760919733\t0.9207085541051953\t60.6\n",
      "78.0%\t39000\t-24182.112916214013\t360.42012268073404\t0.8913167718213166\t60.7\n",
      "80.0%\t40000\t-23871.011396394606\t379.3921593125817\t0.8951725139054071\t60.8\n",
      "82.0%\t41000\t-24054.542981471808\t368.3011934803025\t0.9115009685598748\t60.7\n",
      "84.0%\t42000\t-24289.337428113562\t371.3718091128651\t0.9261483342904425\t60.8\n",
      "86.0%\t43000\t-24158.51728345506\t376.7731157865567\t0.9269776673958852\t60.8\n",
      "88.0%\t44000\t-23920.166490377072\t383.30931883539427\t0.9181391815421279\t60.9\n",
      "90.0%\t45000\t-24049.182143213373\t362.4603981400707\t0.9009469380230869\t61\n",
      "92.0%\t46000\t-24170.236645876546\t371.9102475137225\t0.9073363281756592\t61\n",
      "94.0%\t47000\t-24111.242489998374\t372.47392690288774\t0.9043627958840225\t61\n",
      "96.0%\t48000\t-24148.713665123563\t377.4790110370873\t0.9015298788189551\t60.9\n",
      "98.0%\t49000\t-23933.00562787935\t365.97324412405663\t0.8957545282465881\t61\n",
      "100.0%\t50000\t-23721.4904402408\t377.8916032434205\t0.9053917493618886\t60.9\n"
     ]
    }
   ],
   "source": [
    "pdb = PDBFile('waterbox.pdb')\n",
    "ff = ForceField('tip3p.xml')\n",
    "system = ff.createSystem(pdb.topology, \n",
    "                         nonbondedMethod=PME, \n",
    "                         nonbondedCutoff=0.9*nanometer, rigidWater=True) #creates interactions\n",
    "integ = LangevinIntegrator(370*kelvin, 1.0/picosecond, 2*femtosecond) #give integrator timestep*unit variable\n",
    "baro = MonteCarloBarostat(1.0*atmosphere, 370*kelvin) #pressure, temp, attempt freq\n",
    "system.addForce(baro)\n",
    "simul = Simulation(pdb.topology, system, integ)\n",
    "simul.context.setPositions(pdb.positions)\n",
    "simul.context.getState(getEnergy=True).getPotentialEnergy()\n",
    "simul.reporters.append(DCDReporter('waterbox-dynamics-370.dcd', 100))\n",
    "import sys\n",
    "simul.reporters.append(StateDataReporter(sys.stdout, 1000, step=True, totalEnergy=True, temperature=True,\n",
    "                  density=True, progress=True, speed=True, separator='\\t', totalSteps=50000))\n",
    "simul.step(50000)"
   ]
  },
  {
   "cell_type": "markdown",
   "id": "7630d49e",
   "metadata": {},
   "source": [
    "**Part D**"
   ]
  },
  {
   "cell_type": "code",
   "execution_count": 73,
   "id": "bfd21e6c",
   "metadata": {},
   "outputs": [
    {
     "data": {
      "image/png": "[encoded data removed]",
      "text/plain": [
       "<Figure size 432x288 with 1 Axes>"
      ]
     },
     "metadata": {
      "needs_background": "light"
     },
     "output_type": "display_data"
    }
   ],
   "source": [
    "#370\n",
    "data = np.loadtxt('oo.als_bestfit.dat')\n",
    "x = data[:,0]\n",
    "y = data[:,1]\n",
    "plt.plot(x,y)\n",
    "plt.xlabel('r (Angstrom)')\n",
    "plt.ylabel('Radial Distribution Function g(r)')\n",
    "plt.show()"
   ]
  },
  {
   "cell_type": "markdown",
   "id": "c16c471f",
   "metadata": {},
   "source": [
    "**Part E**"
   ]
  },
  {
   "cell_type": "code",
   "execution_count": 74,
   "id": "292d5585",
   "metadata": {},
   "outputs": [
    {
     "data": {
      "image/png": "[encoded data removed]",
      "text/plain": [
       "<Figure size 432x288 with 1 Axes>"
      ]
     },
     "metadata": {
      "needs_background": "light"
     },
     "output_type": "display_data"
    }
   ],
   "source": [
    "#300K\n",
    "data = np.loadtxt('rdf_graph_300K_tip3pfb.dat')\n",
    "x = data[:,0]\n",
    "y = data[:,1]\n",
    "plt.plot(x,y)\n",
    "plt.xlabel('r (Angstrom)')\n",
    "plt.ylabel('Radial Distribution Function g(r)')\n",
    "plt.show()"
   ]
  },
  {
   "cell_type": "code",
   "execution_count": 75,
   "id": "2de92243",
   "metadata": {},
   "outputs": [
    {
     "name": "stdout",
     "output_type": "stream",
     "text": [
      "#\"Progress (%)\"\t\"Step\"\t\"Total Energy (kJ/mole)\"\t\"Temperature (K)\"\t\"Density (g/mL)\"\t\"Speed (ns/day)\"\n",
      "2.0%\t1000\t-37566.85621181631\t291.34426107950895\t0.9949917752475999\t--\n",
      "4.0%\t2000\t-37264.0139245016\t304.4232410624861\t0.9965706551771832\t37.7\n",
      "6.0%\t3000\t-36939.23297019373\t299.3041100167389\t1.0000954392205308\t36.6\n",
      "8.0%\t4000\t-37078.18259756401\t298.1255292055471\t0.996632907745608\t40.6\n",
      "10.0%\t5000\t-37284.204075441434\t302.0688360237773\t0.9952296936613864\t43.8\n",
      "12.0%\t6000\t-37101.28564487782\t299.81103997122227\t1.0037647796459424\t46.2\n",
      "14.0%\t7000\t-37197.05470448072\t293.602907078831\t0.9986415780211959\t48\n",
      "16.0%\t8000\t-37263.18417467343\t296.72265295728266\t1.0110982422512693\t49\n",
      "18.0%\t9000\t-36793.3535578732\t310.07440225932584\t1.001194899438242\t49.9\n",
      "20.0%\t10000\t-36922.98070915611\t308.3893555564935\t1.0045066538508285\t50.9\n",
      "22.0%\t11000\t-37074.280480569985\t293.0552659205134\t1.0049620898899159\t51.5\n",
      "24.0%\t12000\t-37010.01887902181\t300.9071310324841\t0.9851023364506388\t51.5\n",
      "26.0%\t13000\t-37025.45598596701\t295.2517377225933\t0.9784263786957722\t51.1\n",
      "28.0%\t14000\t-37126.89806173797\t297.8460479073565\t1.005541496857444\t51.4\n",
      "30.0%\t15000\t-37325.87262475316\t288.72549213751785\t0.9905649770043665\t52\n",
      "32.0%\t16000\t-37217.09747139405\t297.8164504723726\t1.0037488658580884\t52.4\n",
      "34.0%\t17000\t-37096.48650530452\t296.29973642303287\t0.9952322250167189\t52.8\n",
      "36.0%\t18000\t-37361.4420919533\t295.6951930411211\t0.9827112906764367\t53.1\n",
      "38.0%\t19000\t-37334.323059248854\t294.86722565525145\t0.9817019604021268\t53.3\n",
      "40.0%\t20000\t-37583.692515373084\t300.0913675314752\t0.9933029823853433\t53.6\n",
      "42.0%\t21000\t-37322.357849463064\t292.6482247088882\t0.9978402851604822\t53.9\n",
      "44.0%\t22000\t-36995.927255105926\t302.24048402558316\t1.007634565030414\t54\n",
      "46.0%\t23000\t-37305.509721853276\t295.49639315895\t0.9886942487054798\t54.1\n",
      "48.0%\t24000\t-37014.69988384357\t300.30807174816323\t0.9997909640139143\t54.2\n",
      "50.0%\t25000\t-37280.16927164217\t299.7451594484362\t0.9865483395948409\t54\n",
      "52.0%\t26000\t-36834.9003967919\t303.0139257657538\t0.9793415150579019\t54.3\n",
      "54.0%\t27000\t-36936.95785943384\t297.696418472257\t0.9857333446251101\t54.5\n",
      "56.0%\t28000\t-37514.496949833294\t294.27728915331943\t0.9875681411767872\t54.5\n",
      "58.0%\t29000\t-37325.0287596313\t298.5572543149432\t0.9839594956604898\t54.5\n",
      "60.0%\t30000\t-36861.5451475711\t302.5563211126688\t0.9969165095467573\t54.6\n",
      "62.0%\t31000\t-37378.21301042859\t294.5654679787156\t0.9864409157825427\t54.6\n",
      "64.0%\t32000\t-37858.99840879263\t287.6822931918883\t0.9897806523487306\t54.6\n",
      "66.0%\t33000\t-37705.8899138713\t290.785446520943\t1.0015660872605938\t54.7\n",
      "68.0%\t34000\t-37488.101363915746\t290.2628940688472\t0.9846115484287635\t54.8\n",
      "70.0%\t35000\t-37439.92555481958\t298.99888413274283\t0.9884931525537947\t54.7\n",
      "72.0%\t36000\t-37042.9326761461\t301.34713695663464\t0.9925289963375944\t54.8\n",
      "74.0%\t37000\t-37456.242289543356\t296.4844127336563\t0.9943583164682902\t54.8\n",
      "76.0%\t38000\t-37229.14068575762\t306.7444723989752\t0.996891011921866\t54.9\n",
      "78.0%\t39000\t-37236.17033692699\t295.41632648412593\t0.9911934502595516\t55\n",
      "80.0%\t40000\t-36834.92992913624\t305.13139712452084\t0.9977775367047761\t55\n",
      "82.0%\t41000\t-37256.86031073454\t300.939863131153\t1.0180840618116356\t55.1\n",
      "84.0%\t42000\t-37488.811006658914\t297.62744606093077\t1.0015015042158457\t55\n",
      "86.0%\t43000\t-37228.76581977651\t299.34676626226553\t0.9833211297361844\t55.1\n",
      "88.0%\t44000\t-37506.99348964557\t294.28383006495443\t0.9959637900760134\t55.2\n",
      "90.0%\t45000\t-37175.83799295695\t305.1529601246168\t1.0012210040101013\t55.2\n",
      "92.0%\t46000\t-37084.53115011155\t294.38056906766474\t0.9907248832503426\t55.2\n",
      "94.0%\t47000\t-36840.193393450725\t297.73496367761237\t0.9974432160313467\t55.3\n",
      "96.0%\t48000\t-37108.03785835454\t302.4269078037397\t0.993516586717034\t55.3\n",
      "98.0%\t49000\t-37347.484229856695\t297.7336813476628\t1.0008782449353604\t55.4\n",
      "100.0%\t50000\t-37380.916730595985\t298.32272966924455\t0.9829407074607366\t55.4\n"
     ]
    }
   ],
   "source": [
    "pdb = PDBFile('waterbox.pdb')\n",
    "ff = ForceField('tip3pfb.xml')\n",
    "system = ff.createSystem(pdb.topology, nonbondedMethod=PME,nonbondedCutoff=0.9*nanometer, rigidWater=True)\n",
    "integ = LangevinIntegrator(300*kelvin, 1.0/picosecond, 2*femtosecond) \n",
    "baro = MonteCarloBarostat(1.0*atmosphere, 300*kelvin) \n",
    "system.addForce(baro)\n",
    "simul = Simulation(pdb.topology, system, integ)\n",
    "simul.context.setPositions(pdb.positions)\n",
    "simul.context.getState(getEnergy=True).getPotentialEnergy()\n",
    "simul.reporters.append(DCDReporter('waterbox-dynamics-300-tip3pfb.dcd', 100))\n",
    "import sys\n",
    "simul.reporters.append(StateDataReporter(sys.stdout, 1000, step=True, totalEnergy=True, temperature=True,density=True, progress=True, speed=True, separator='\\t', totalSteps=50000))\n",
    "simul.step(50000)"
   ]
  }
 ],
 "metadata": {
  "kernelspec": {
   "display_name": "Python 3 (ipykernel)",
   "language": "python",
   "name": "python3"
  },
  "language_info": {
   "codemirror_mode": {
    "name": "ipython",
    "version": 3
   },
   "file_extension": ".py",
   "mimetype": "text/x-python",
   "name": "python",
   "nbconvert_exporter": "python",
   "pygments_lexer": "ipython3",
   "version": "3.9.12"
  }
 },
 "nbformat": 4,
 "nbformat_minor": 5
}
