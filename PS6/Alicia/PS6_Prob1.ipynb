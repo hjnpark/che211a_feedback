{
 "cells": [
  {
   "cell_type": "code",
   "execution_count": 5,
   "id": "f77262c7-0a9f-420c-914c-f83a1bdb0b02",
   "metadata": {},
   "outputs": [],
   "source": [
    "import numpy as np\n",
    "import matplotlib.pyplot as plt\n",
    "from simtk.openmm.app import *\n",
    "from simtk.openmm import *\n",
    "from simtk.unit import *\n",
    "import time"
   ]
  },
  {
   "cell_type": "markdown",
   "id": "e9ab5700-4dbd-4227-99ca-bf9f672b5a55",
   "metadata": {},
   "source": [
    "a"
   ]
  },
  {
   "cell_type": "code",
   "execution_count": 6,
   "id": "c6ef9059-97dc-460f-a83f-d8f4cf4f352b",
   "metadata": {},
   "outputs": [],
   "source": [
    "#constants in table\n",
    "kb = 1.38065e-23 #J/K\n",
    "Na = 6.02214e23 #molelces/mole\n",
    "h = 6.626073e-34 #Js\n",
    "hbar = 1.05456e-34 #Js\n",
    "c = 299792458 #m/s\n",
    "#N2\n",
    "mN2 = 28.0134 #g/mol\n",
    "sigN2 = 2\n",
    "BN2 = 1.99824*h*c*100\n",
    "lambN2 = 2330 * 100 * c\n",
    "engN2 = -944.46 #kJ/mol #-0.359727 hartee\n",
    "\n",
    "#H2\n",
    "mH2 = 2.016 #g/mol\n",
    "sigH2 = 2\n",
    "BH2 = 60.853*h*c*100\n",
    "lambH2 = 4401.21 * 100 * c\n",
    "engH2 = -456.75 #kJ/mol\n",
    "\n",
    "#NH3\n",
    "mNH3 = 17.031\n",
    "sigNH3 = 6\n",
    "B1NH3 = 9.44430*h*c*100\n",
    "B2NH3 = 9.44430*h*c*100\n",
    "B3NH3 = 6.19600*h*c*100\n",
    "lamb1NH3 = 3337 *100 *c\n",
    "lamb2NH3 = 950 * 100 * c\n",
    "lamb3NH3 = 3444 * 100 * c\n",
    "lamb4NH3 = 1627 * 100 * c\n",
    "engNH3 = -1243.44 #kJ/mol #-0.473602"
   ]
  },
  {
   "cell_type": "markdown",
   "id": "086113ee-7899-45c0-80d3-861f2b45b6a7",
   "metadata": {},
   "source": [
    "b) keq = fNH3 / ((fN2)**0.5 * (fH2)**1.5) where fi = Zi/V"
   ]
  },
  {
   "cell_type": "markdown",
   "id": "7d6e5219-6879-40fa-a45e-3e50a2a76dc0",
   "metadata": {},
   "source": [
    "c"
   ]
  },
  {
   "cell_type": "code",
   "execution_count": 34,
   "id": "35e11e42-00ff-4141-9a86-709ab3947f6f",
   "metadata": {},
   "outputs": [],
   "source": [
    "#trans part func\n",
    "def transfunc(temp):\n",
    "    zN2 = (((2 * np.pi * (mN2/(1000*Na)) * kb * temp)**.5)/h)**3 \n",
    "    zH2 = (((2 * np.pi * (mH2/(1000*Na)) * kb * temp)**.5)/h)**3\n",
    "    zNH3 = (((2 * np.pi * (mNH3/(1000*Na)) * kb * temp)**.5)/h)**3 \n",
    "    ktrans = (zNH3 / (((zN2)**.5) * ((zH2)**1.5))) * 6.022e26\n",
    "    return ktrans"
   ]
  },
  {
   "cell_type": "code",
   "execution_count": 35,
   "id": "5ddcf0a5-e8ae-41aa-8ba8-b90d18f5796e",
   "metadata": {},
   "outputs": [
    {
     "name": "stdout",
     "output_type": "stream",
     "text": [
      "0.00016878648201826868\n"
     ]
    }
   ],
   "source": [
    "trial800 = transfunc(800) #1.68e-4\n",
    "print(trial800)"
   ]
  },
  {
   "cell_type": "code",
   "execution_count": 36,
   "id": "44290e05-7bf3-48f3-adb5-719d15a2c0d3",
   "metadata": {},
   "outputs": [],
   "source": [
    "#rot part func\n",
    "def rotfunc(temp):\n",
    "    zN2 = (kb * temp)/(sigN2 * BN2)\n",
    "    zH2 = (kb * temp)/(sigH2 * BH2)\n",
    "    zNH3 = (((np.pi)**.5)/sigNH3) * ((((kb * temp)**3)/(B1NH3 * B2NH3 * B3NH3))**.5)\n",
    "    krot = zNH3 / (((zN2)**.5) * ((zH2)**1.5))\n",
    "    return krot"
   ]
  },
  {
   "cell_type": "code",
   "execution_count": 37,
   "id": "b4f2900c-c8dc-429d-ade5-2da2e43e498f",
   "metadata": {},
   "outputs": [
    {
     "name": "stdout",
     "output_type": "stream",
     "text": [
      "1.430397295845449\n"
     ]
    }
   ],
   "source": [
    "trialrot800 = rotfunc(800) #1.43\n",
    "print(trialrot800)"
   ]
  },
  {
   "cell_type": "code",
   "execution_count": 38,
   "id": "439afae6-a446-4ff7-96cc-4dc68b5a058b",
   "metadata": {},
   "outputs": [],
   "source": [
    "#vib part func\n",
    "def vibfunc(temp):\n",
    "    vibTN2 = (h * lambN2)/kb\n",
    "    vibTH2 = (h * lambH2)/kb\n",
    "    vib1TNH3 = (h * lamb1NH3)/kb\n",
    "    vib2TNH3 = (h * lamb2NH3)/kb\n",
    "    vib3TNH3 = (h * lamb3NH3)/kb\n",
    "    vib4TNH3 = (h * lamb4NH3)/kb\n",
    "    zN2 = (np.exp(-1 * vibTN2/(2 * temp)))/(1 - np.exp(-vibTN2/temp))\n",
    "    zH2 = (np.exp(-1 * vibTH2/(2 * temp)))/(1 - np.exp(-vibTH2/temp))\n",
    "    zNH3 =(np.exp(-1 * vib1TNH3/(2 * temp)))/(1 - np.exp(-vib1TNH3/temp)) * (np.exp(-vib2TNH3/(2 * temp)))/(1 - np.exp(-vib2TNH3/temp)) * (np.exp(-vib3TNH3/(2 * temp)))/(1 - np.exp(-vib3TNH3/temp)) * (np.exp(-vib4TNH3/(2 * temp)))/(1 - np.exp(-vib4TNH3/temp))\n",
    "    kvib = zNH3 / (((zN2)**.5) * ((zH2)**1.5)) / 100\n",
    "    return kvib"
   ]
  },
  {
   "cell_type": "code",
   "execution_count": 39,
   "id": "431f8c53-a9b3-494e-9334-d14f71c1b86e",
   "metadata": {},
   "outputs": [
    {
     "name": "stdout",
     "output_type": "stream",
     "text": [
      "0.003074080183500714\n"
     ]
    }
   ],
   "source": [
    "trialvib800 = vibfunc(800) #0.00345021\n",
    "print(trialvib800)"
   ]
  },
  {
   "cell_type": "code",
   "execution_count": 40,
   "id": "f13471cf-1c41-4ea7-9103-aece193b52a5",
   "metadata": {},
   "outputs": [],
   "source": [
    "#elec part func\n",
    "def elecfunc(temp):\n",
    "    zN2 = np.exp((-1 * engN2*1000) /(kb * temp * Na))\n",
    "    zH2 = np.exp((-1 * engH2*1000) /(kb * temp * Na))\n",
    "    zNH3 = np.exp((-1 * engNH3*1000) /(kb * temp * Na))\n",
    "    kelec = zNH3 / (((zN2)**.5) * ((zH2)**1.5))\n",
    "    return kelec"
   ]
  },
  {
   "cell_type": "code",
   "execution_count": 41,
   "id": "ed219a05-e72c-42de-9cdd-0bdb14a96564",
   "metadata": {},
   "outputs": [
    {
     "name": "stdout",
     "output_type": "stream",
     "text": [
      "417503.98336790205\n"
     ]
    }
   ],
   "source": [
    "trialelec800 = elecfunc(800) #417255.19369101\n",
    "print(trialelec800)"
   ]
  },
  {
   "cell_type": "code",
   "execution_count": 42,
   "id": "4f7a4cf7-f59e-4178-b703-c5bf96de8036",
   "metadata": {},
   "outputs": [],
   "source": [
    "def partfunct(temp):\n",
    "    ztrans = transfunc(temp)\n",
    "    zrot = rotfunc(temp)\n",
    "    zvib = vibfunc(temp)\n",
    "    zelec = elecfunc(temp)\n",
    "    keq = ztrans * zrot * zvib * zelec\n",
    "    logkeq = np.log10(keq)\n",
    "    return logkeq"
   ]
  },
  {
   "cell_type": "markdown",
   "id": "b97176bd-8975-452d-bd29-02cca578b6ff",
   "metadata": {},
   "source": [
    "d"
   ]
  },
  {
   "cell_type": "code",
   "execution_count": 43,
   "id": "ae2a3758-ad06-47e1-b410-f3d2575fa572",
   "metadata": {},
   "outputs": [],
   "source": [
    "def haber(temp):\n",
    "    logkeq = 2.1 + (2098/temp) - 2.5088*np.log10(temp) - 1.006e-4*temp + 1.86e-7*(temp**2) + np.log10(0.0821*temp)\n",
    "    return logkeq"
   ]
  },
  {
   "cell_type": "code",
   "execution_count": 44,
   "id": "e8f08726-f03b-4a19-9b34-57ae725421c6",
   "metadata": {},
   "outputs": [],
   "source": [
    "#array with 800 - 1200K\n",
    "temparray = np.arange(800, 1200, 1)\n",
    "partfuncarray = partfunct(temparray)\n",
    "haberarray = haber(temparray)"
   ]
  },
  {
   "cell_type": "code",
   "execution_count": 45,
   "id": "92477e5d-3d7b-4fad-8dc1-166fb9c97f9b",
   "metadata": {},
   "outputs": [
    {
     "data": {
      "image/png": "[encoded data removed]",
      "text/plain": [
       "<Figure size 640x480 with 1 Axes>"
      ]
     },
     "metadata": {},
     "output_type": "display_data"
    }
   ],
   "source": [
    "fig, ax = plt.subplots()\n",
    "ax.plot(temparray, partfuncarray, label = 'log(Keq)')\n",
    "ax.plot(temparray, haberarray, label = 'Empirical Fit')\n",
    "ax.set_xlabel('Temperature (K)')\n",
    "ax.set_ylabel('log(Keq)')\n",
    "ax.legend()\n",
    "\n",
    "plt.show()"
   ]
  },
  {
   "cell_type": "markdown",
   "id": "312d7b53-800d-4035-b22f-bb987dfa0442",
   "metadata": {},
   "source": [
    "e) Two possible reasons there a differences between the calculated and the experimental \n",
    "equilibrium constants could be due to the rotational partition function and our assumption of the high-temperature approximation (switching that summation to an integral in the derivation). NH3 also has relatively low rotational constants (at least compared to hydrogen) which may mean that we can't make that assumption or that may be one of the reasons why there are differences.\n",
    "\n",
    "I would guess there are also differences due being higher than the vibrational temperature for some of the vibrational frequencies. If this is the case, at higher temperatures our Zvib = (kb * temp)/(h * omega) not the equation we used previously. This could also cause the differences. "
   ]
  }
 ],
 "metadata": {
  "kernelspec": {
   "display_name": "Python 3 (ipykernel)",
   "language": "python",
   "name": "python3"
  },
  "language_info": {
   "codemirror_mode": {
    "name": "ipython",
    "version": 3
   },
   "file_extension": ".py",
   "mimetype": "text/x-python",
   "name": "python",
   "nbconvert_exporter": "python",
   "pygments_lexer": "ipython3",
   "version": "3.9.13"
  }
 },
 "nbformat": 4,
 "nbformat_minor": 5
}
