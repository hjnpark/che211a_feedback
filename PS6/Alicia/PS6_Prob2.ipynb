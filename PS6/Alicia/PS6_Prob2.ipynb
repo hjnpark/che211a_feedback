{
 "cells": [
  {
   "cell_type": "code",
   "execution_count": 1,
   "id": "e6b51e6c-3b76-4ea0-b157-128d20970fca",
   "metadata": {},
   "outputs": [],
   "source": [
    "import numpy as np\n",
    "import matplotlib.pyplot as plt\n",
    "from simtk.openmm.app import *\n",
    "from simtk.openmm import *\n",
    "from simtk.unit import *\n",
    "import time"
   ]
  },
  {
   "cell_type": "markdown",
   "id": "8664b9b9-54a0-47e1-900f-ba4e54f84bee",
   "metadata": {},
   "source": [
    "a (300K)"
   ]
  },
  {
   "cell_type": "code",
   "execution_count": 2,
   "id": "a443da1c-aa5e-41ae-b2fc-967abc16617b",
   "metadata": {},
   "outputs": [],
   "source": [
    "#create system\n",
    "pdb = PDBFile('waterbox.pdb')\n",
    "forcefield = ForceField('tip3p.xml')\n",
    "system = forcefield.createSystem(pdb.topology, nonbondedMethod=PME, nonbondedCutoff=0.9*nanometer, rigidWater=True)\n",
    "\n",
    "#langevin ientegrator \n",
    "integrator = LangevinIntegrator(300*kelvin, 1.0/picosecond, 2*femtosecond) \n",
    "\n",
    "#montecarlo bariostat 1atm, default freq\n",
    "baro = MonteCarloBarostat(1.0*atmosphere, 300*kelvin, 25)\n",
    "system.addForce(baro)\n",
    "\n",
    "#simulation object\n",
    "simulation = Simulation(pdb.topology, system, integrator)\n",
    "\n",
    "#initial position/velocities\n",
    "simulation.context.setPositions(pdb.positions)\n",
    "\n",
    "#DCD reporter\n",
    "simulation.reporters.append(DCDReporter('water_tip3p_300.dcd',100))\n",
    "\n",
    "#number of steps\n",
    "simulation.step(50000)"
   ]
  },
  {
   "cell_type": "markdown",
   "id": "cb40cc72-e2a8-4de3-863e-267401b353ca",
   "metadata": {},
   "source": [
    "c"
   ]
  },
  {
   "cell_type": "code",
   "execution_count": 3,
   "id": "ec8f2861-1688-4d72-95db-6a1c9e97ad96",
   "metadata": {},
   "outputs": [],
   "source": [
    "#create system\n",
    "pdb = PDBFile('waterbox.pdb')\n",
    "forcefield = ForceField('tip3p.xml')\n",
    "system = forcefield.createSystem(pdb.topology, nonbondedMethod=PME, nonbondedCutoff=0.9*nanometer, rigidWater=True)\n",
    "\n",
    "#langevin ientegrator \n",
    "integrator = LangevinIntegrator(370*kelvin, 1.0/picosecond, 2*femtosecond) \n",
    "\n",
    "#montecarlo bariostat 1atm, default freq\n",
    "baro = MonteCarloBarostat(1.0*atmosphere, 370*kelvin)\n",
    "system.addForce(baro)\n",
    "\n",
    "#simulation object\n",
    "simulation = Simulation(pdb.topology, system, integrator)\n",
    "\n",
    "#initial position/velocities\n",
    "simulation.context.setPositions(pdb.positions)\n",
    "\n",
    "#DCD reporter\n",
    "simulation.reporters.append(DCDReporter('water_tip3p_370.dcd',100))\n",
    "\n",
    "#number of steps\n",
    "simulation.step(50000)"
   ]
  },
  {
   "cell_type": "markdown",
   "id": "002357f4-18ca-4893-8c04-de0c95756f1e",
   "metadata": {},
   "source": [
    "The radial distribution function between 300K and 370K look relatively similar but at 370K\n",
    "there are more O-O bond distances that are greater than 2.7ish A (this is about the equilibrium H-Bond distance). Overall, they look relatively similar though. "
   ]
  },
  {
   "cell_type": "markdown",
   "id": "4d1ff5c2-41ec-41e5-818b-13bd37c975a5",
   "metadata": {},
   "source": [
    "d) The differences betwee 300K and the experimental results seem to be that in the experimental\n",
    "result, there are more O-O distances that correspond to the second longest O-O distance from the equilibrium H-bonding distances due to the more exagerated second crest in the experimental graph. "
   ]
  },
  {
   "cell_type": "markdown",
   "id": "9f33ba3a-70d6-4d5d-926f-e951a27725e0",
   "metadata": {},
   "source": [
    "e"
   ]
  },
  {
   "cell_type": "code",
   "execution_count": 4,
   "id": "8eada71d-dde4-4e44-b77e-9162a9f9b328",
   "metadata": {},
   "outputs": [],
   "source": [
    "#create system\n",
    "pdb = PDBFile('waterbox.pdb')\n",
    "forcefield = ForceField('tip3pfb.xml')\n",
    "system = forcefield.createSystem(pdb.topology, nonbondedMethod=PME, nonbondedCutoff=0.9*nanometer, rigidWater=True)\n",
    "\n",
    "#langevin ientegrator \n",
    "integrator = LangevinIntegrator(300*kelvin, 1.0/picosecond, 2*femtosecond) \n",
    "\n",
    "#montecarlo bariostat 1atm, default freq\n",
    "baro = MonteCarloBarostat(1.0*atmosphere, 300*kelvin)\n",
    "system.addForce(baro)\n",
    "\n",
    "#simulation object\n",
    "simulation = Simulation(pdb.topology, system, integrator)\n",
    "\n",
    "#initial position/velocities\n",
    "simulation.context.setPositions(pdb.positions)\n",
    "\n",
    "#DCD reporter\n",
    "simulation.reporters.append(DCDReporter('water_tip3pfb_300.dcd',100))\n",
    "\n",
    "#number of steps\n",
    "simulation.step(50000)"
   ]
  },
  {
   "cell_type": "markdown",
   "id": "ead6ca43-2f29-4ea6-a26b-2396994fd356",
   "metadata": {},
   "source": [
    "f) answer =  4*pi*(r**2)g(r)dr\n",
    "\n",
    "g(r)dr at first trough is = between 6.80 and 7.38\n",
    "\n",
    "r**2 = 7.5625A (r = 2.75A from graph (average between 3 and lower point))\n",
    "\n",
    "answer = 674 (about 75% of water molecules)"
   ]
  },
  {
   "cell_type": "code",
   "execution_count": null,
   "id": "d72fedfe-f090-42df-a86f-11668399e770",
   "metadata": {},
   "outputs": [],
   "source": []
  }
 ],
 "metadata": {
  "kernelspec": {
   "display_name": "Python 3 (ipykernel)",
   "language": "python",
   "name": "python3"
  },
  "language_info": {
   "codemirror_mode": {
    "name": "ipython",
    "version": 3
   },
   "file_extension": ".py",
   "mimetype": "text/x-python",
   "name": "python",
   "nbconvert_exporter": "python",
   "pygments_lexer": "ipython3",
   "version": "3.9.13"
  }
 },
 "nbformat": 4,
 "nbformat_minor": 5
}
